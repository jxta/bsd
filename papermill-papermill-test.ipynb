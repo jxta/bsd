{
 "cells": [
  {
   "cell_type": "code",
   "execution_count": null,
   "metadata": {
    "tags": [
     "parameters"
    ]
   },
   "outputs": [],
   "source": [
    "P = 10"
   ]
  },
  {
   "cell_type": "code",
   "execution_count": null,
   "metadata": {},
   "outputs": [],
   "source": [
    "#!/usr/bin/env python3\n",
    "import subprocess\n",
    "import time\n",
    "\n",
    "for i in range(1,P+1):\n",
    "    cmd =[\"papermill\", \"papermill-test-julia.ipynb\",  \"papermill-test-julia-\"+str(i)+\".ipynb\"]\n",
    "    print(cmd)\n",
    "    p = subprocess.Popen(cmd)\n",
    "    time.sleep(10)\n",
    "    print(p)"
   ]
  }
 ],
 "metadata": {
  "celltoolbar": "Tags",
  "kernelspec": {
   "display_name": "Python 3",
   "language": "python",
   "name": "python3"
  },
  "language_info": {
   "codemirror_mode": {
    "name": "ipython",
    "version": 3
   },
   "file_extension": ".py",
   "mimetype": "text/x-python",
   "name": "python",
   "nbconvert_exporter": "python",
   "pygments_lexer": "ipython3",
   "version": "3.8.5"
  }
 },
 "nbformat": 4,
 "nbformat_minor": 4
}
