{
 "cells": [
  {
   "cell_type": "markdown",
   "metadata": {
    "lc_cell_meme": {
     "current": "34cbb3ce-088d-11eb-bd7d-02420a010115",
     "next": "34cbb5e0-088d-11eb-bd7d-02420a010115",
     "previous": null
    },
    "toc": true
   },
   "source": [
    "<h1>目次<span class=\"tocSkip\"></span></h1>\n",
    "<div class=\"toc\"><ul class=\"toc-item\"><li><span><a href=\"#佐藤・Tate予想の数値的確認\" data-toc-modified-id=\"佐藤・Tate予想の数値的確認-1\"><span class=\"toc-item-num\">1&nbsp;&nbsp;</span>佐藤・Tate予想の数値的確認</a></span></li></ul></div>"
   ]
  },
  {
   "cell_type": "markdown",
   "metadata": {
    "lc_cell_meme": {
     "current": "34cbb5e0-088d-11eb-bd7d-02420a010115",
     "history": [
      {
       "current": "34cbb5e0-088d-11eb-bd7d-02420a010115",
       "next": "34cbb7ac-088d-11eb-bd7d-02420a010115",
       "previous": "34cbb3ce-088d-11eb-bd7d-02420a010115"
      }
     ],
     "next": "34cbbba8-088d-11eb-bd7d-02420a010115",
     "previous": "34cbb3ce-088d-11eb-bd7d-02420a010115"
    },
    "slideshow": {
     "slide_type": "slide"
    }
   },
   "source": [
    "### 佐藤・Tate予想の数値的確認\n",
    "\n",
    "* [佐藤・テイト予想 - Wikipedia](https://ja.wikipedia.org/wiki/%E4%BD%90%E8%97%A4%E3%83%BB%E3%83%86%E3%82%A4%E3%83%88%E4%BA%88%E6%83%B3)\n",
    "\n",
    "$E$ を有理数体上定義された楕円曲線であるとし, 素数位数 $p$ の有限体上での有理点の個数を $S_p$ と書き, $a_p = p+1-S_p$ とおく. このとき, [楕円曲線に関するHasseの定理](https://en.wikipedia.org/wiki/Hasse%27s_theorem_on_elliptic_curves)(Weil予想のひな形)によって,\n",
    "\n",
    "$$\n",
    "|a_p| \\leqq 2\\sqrt{p}\n",
    "$$\n",
    "\n",
    "が成立している. すなわち, $x_p = a_p/(2\\sqrt{p})$ とおくと, $x_p$ は $-1$ と $1$ のあいだに分布するようになる. \n",
    "\n",
    "楕円曲線 $E$ が虚数乗法を持たないならば, $x_p$ 達の分布が半円則に従うという主張が佐藤・Tate予想である. この予想は大変深い数学的予想であり, 21世紀になってから解決された.  \n",
    "\n",
    "半円則とは確率密度函数\n",
    "\n",
    "$$\n",
    "\\varphi(x) = \\frac{2}{\\pi}\\sqrt{1-x^2} \\quad (|x|\\leqq 1)\n",
    "$$\n",
    "\n",
    "を持つ確率分布のことである.  $x_p = \\cos\\theta_p$ を満たす $0\\leqq\\theta_p\\leqq\\pi$ を取ると, 佐藤・Tate予想は $\\theta_p$ 達が $\\sin^2$ 分布に従うという主張に言い換えられる. $\\sin^2$ 分布とは確率密度函数\n",
    "\n",
    "$$\n",
    "\\psi(\\theta) = \\frac{2}{\\pi}\\sin^2\\theta \\quad (0\\leqq\\theta\\leqq\\pi)\n",
    "$$\n",
    "\n",
    "を持つ確率分布のことである. \n",
    "\n",
    "佐藤・Tate予想については以下の解説が面白く読める:\n",
    "\n",
    "* 数学のたのしみ, 2008 最終号, フォーラム: 現代数学のひろがり, 佐藤-テイト予想の解決と展望\n",
    "\n",
    "* 難波完爾, Dedeking $\\eta$ 函数と佐藤 $\\sin^2$ 予想, 2005.12.07 [PDF](https://www2.tsuda.ac.jp/suukeiken/math/suugakushi/sympo16/16_8nanba.pdf)"
   ]
  },
  {
   "cell_type": "code",
   "execution_count": null,
   "metadata": {
    "lc_cell_meme": {
     "current": "34cbbba8-088d-11eb-bd7d-02420a010115",
     "history": [
      {
       "current": "34cbbba8-088d-11eb-bd7d-02420a010115",
       "next": null,
       "previous": "34cbb9fa-088d-11eb-bd7d-02420a010115"
      }
     ],
     "next": "34cbb7ac-088d-11eb-bd7d-02420a010115",
     "previous": "34cbb5e0-088d-11eb-bd7d-02420a010115"
    },
    "scrolled": true,
    "slideshow": {
     "slide_type": "-"
    }
   },
   "outputs": [
    {
     "name": "stdout",
     "output_type": "stream",
     "text": [
      "\u001b[32m\u001b[1m  Updating\u001b[22m\u001b[39m registry at `/opt/julia/registries/General`\n",
      "\u001b[32m\u001b[1m  Updating\u001b[22m\u001b[39m git-repo `https://github.com/JuliaRegistries/General.git`\n",
      "\u001b[2K\u001b[?25h[1mFetching:\u001b[22m\u001b[39m [========================================>]  100.0 %.0 %\u001b[32m\u001b[1m Resolving\u001b[22m\u001b[39m package versions...\n",
      "\u001b[32m\u001b[1m  Updating\u001b[22m\u001b[39m `/opt/julia/environments/v1.3/Project.toml`\n",
      "\u001b[90m [no changes]\u001b[39m\n",
      "\u001b[32m\u001b[1m  Updating\u001b[22m\u001b[39m `/opt/julia/environments/v1.3/Manifest.toml`\n",
      "\u001b[90m [no changes]\u001b[39m\n",
      "\u001b[32m\u001b[1m Resolving\u001b[22m\u001b[39m package versions...\n",
      "\u001b[32m\u001b[1m  Updating\u001b[22m\u001b[39m `/opt/julia/environments/v1.3/Project.toml`\n",
      "\u001b[90m [no changes]\u001b[39m\n",
      "\u001b[32m\u001b[1m  Updating\u001b[22m\u001b[39m `/opt/julia/environments/v1.3/Manifest.toml`\n",
      "\u001b[90m [no changes]\u001b[39m\n",
      "\u001b[32m\u001b[1m Resolving\u001b[22m\u001b[39m package versions...\n",
      "\u001b[32m\u001b[1m  Updating\u001b[22m\u001b[39m `/opt/julia/environments/v1.3/Project.toml`\n",
      "\u001b[90m [no changes]\u001b[39m\n",
      "\u001b[32m\u001b[1m  Updating\u001b[22m\u001b[39m `/opt/julia/environments/v1.3/Manifest.toml`\n",
      "\u001b[90m [no changes]\u001b[39m\n",
      "\u001b[32m\u001b[1m Resolving\u001b[22m\u001b[39m package versions...\n",
      "\u001b[32m\u001b[1m  Updating\u001b[22m\u001b[39m `/opt/julia/environments/v1.3/Project.toml`\n",
      "\u001b[90m [no changes]\u001b[39m\n",
      "\u001b[32m\u001b[1m  Updating\u001b[22m\u001b[39m `/opt/julia/environments/v1.3/Manifest.toml`\n",
      "\u001b[90m [no changes]\u001b[39m\n",
      "\u001b[32m\u001b[1m Resolving\u001b[22m\u001b[39m package versions...\n",
      "\u001b[32m\u001b[1m  Updating\u001b[22m\u001b[39m `/opt/julia/environments/v1.3/Project.toml`\n",
      "\u001b[90m [no changes]\u001b[39m\n",
      "\u001b[32m\u001b[1m  Updating\u001b[22m\u001b[39m `/opt/julia/environments/v1.3/Manifest.toml`\n",
      "\u001b[90m [no changes]\u001b[39m\n",
      "\u001b[32m\u001b[1m Resolving\u001b[22m\u001b[39m package versions...\n",
      "\u001b[32m\u001b[1m  Updating\u001b[22m\u001b[39m `/opt/julia/environments/v1.3/Project.toml`\n",
      "\u001b[90m [no changes]\u001b[39m\n",
      "\u001b[32m\u001b[1m  Updating\u001b[22m\u001b[39m `/opt/julia/environments/v1.3/Manifest.toml`\n",
      "\u001b[90m [no changes]\u001b[39m\n",
      "\u001b[32m\u001b[1m Resolving\u001b[22m\u001b[39m package versions...\n",
      "\u001b[32m\u001b[1m  Updating\u001b[22m\u001b[39m `/opt/julia/environments/v1.3/Project.toml`\n",
      "\u001b[90m [no changes]\u001b[39m\n",
      "\u001b[32m\u001b[1m  Updating\u001b[22m\u001b[39m `/opt/julia/environments/v1.3/Manifest.toml`\n",
      "\u001b[90m [no changes]\u001b[39m\n",
      "\u001b[32m\u001b[1m Resolving\u001b[22m\u001b[39m package versions...\n",
      "\u001b[32m\u001b[1m  Updating\u001b[22m\u001b[39m `/opt/julia/environments/v1.3/Project.toml`\n",
      "\u001b[90m [no changes]\u001b[39m\n",
      "\u001b[32m\u001b[1m  Updating\u001b[22m\u001b[39m `/opt/julia/environments/v1.3/Manifest.toml`\n",
      "\u001b[90m [no changes]\u001b[39m\n",
      "\u001b[32m\u001b[1m Resolving\u001b[22m\u001b[39m package versions...\n",
      "\u001b[32m\u001b[1m  Updating\u001b[22m\u001b[39m `/opt/julia/environments/v1.3/Project.toml`\n",
      "\u001b[90m [no changes]\u001b[39m\n",
      "\u001b[32m\u001b[1m  Updating\u001b[22m\u001b[39m `/opt/julia/environments/v1.3/Manifest.toml`\n",
      "\u001b[90m [no changes]\u001b[39m\n",
      "\u001b[32m\u001b[1m Resolving\u001b[22m\u001b[39m package versions...\n",
      "\u001b[32m\u001b[1m  Updating\u001b[22m\u001b[39m `/opt/julia/environments/v1.3/Project.toml`\n",
      "\u001b[90m [no changes]\u001b[39m\n",
      "\u001b[32m\u001b[1m  Updating\u001b[22m\u001b[39m `/opt/julia/environments/v1.3/Manifest.toml`\n",
      "\u001b[90m [no changes]\u001b[39m\n",
      "\u001b[32m\u001b[1m Resolving\u001b[22m\u001b[39m package versions...\n",
      "\u001b[32m\u001b[1m  Updating\u001b[22m\u001b[39m `/opt/julia/environments/v1.3/Project.toml`\n",
      "\u001b[90m [no changes]\u001b[39m\n",
      "\u001b[32m\u001b[1m  Updating\u001b[22m\u001b[39m `/opt/julia/environments/v1.3/Manifest.toml`\n",
      "\u001b[90m [no changes]\u001b[39m\n",
      "\u001b[32m\u001b[1m Resolving\u001b[22m\u001b[39m package versions...\n",
      "\u001b[32m\u001b[1m  Updating\u001b[22m\u001b[39m `/opt/julia/environments/v1.3/Project.toml`\n",
      "\u001b[90m [no changes]\u001b[39m\n",
      "\u001b[32m\u001b[1m  Updating\u001b[22m\u001b[39m `/opt/julia/environments/v1.3/Manifest.toml`\n",
      "\u001b[90m [no changes]\u001b[39m\n",
      "\u001b[32m\u001b[1m Resolving\u001b[22m\u001b[39m package versions...\n",
      "\u001b[32m\u001b[1m  Updating\u001b[22m\u001b[39m `/opt/julia/environments/v1.3/Project.toml`\n",
      "\u001b[90m [no changes]\u001b[39m\n",
      "\u001b[32m\u001b[1m  Updating\u001b[22m\u001b[39m `/opt/julia/environments/v1.3/Manifest.toml`\n",
      "\u001b[90m [no changes]\u001b[39m\n",
      "\u001b[32m\u001b[1m Resolving\u001b[22m\u001b[39m package versions...\n",
      "\u001b[32m\u001b[1m  Updating\u001b[22m\u001b[39m `/opt/julia/environments/v1.3/Project.toml`\n",
      "\u001b[90m [no changes]\u001b[39m\n",
      "\u001b[32m\u001b[1m  Updating\u001b[22m\u001b[39m `/opt/julia/environments/v1.3/Manifest.toml`\n",
      "\u001b[90m [no changes]\u001b[39m\n",
      "\u001b[32m\u001b[1m Resolving\u001b[22m\u001b[39m package versions...\n",
      "\u001b[32m\u001b[1m  Updating\u001b[22m\u001b[39m `/opt/julia/environments/v1.3/Project.toml`\n",
      "\u001b[90m [no changes]\u001b[39m\n",
      "\u001b[32m\u001b[1m  Updating\u001b[22m\u001b[39m `/opt/julia/environments/v1.3/Manifest.toml`\n",
      "\u001b[90m [no changes]\u001b[39m\n",
      "using Plots -> 10.059759 seconds (9.84 M allocations: 536.925 MiB, 4.27% gc time)\n"
     ]
    },
    {
     "data": {
      "image/svg+xml": [
       "<?xml version=\"1.0\" encoding=\"utf-8\"?>\n",
       "<svg xmlns=\"http://www.w3.org/2000/svg\" xmlns:xlink=\"http://www.w3.org/1999/xlink\" width=\"300\" height=\"160\" viewBox=\"0 0 1200 640\">\n",
       "<defs>\n",
       "  <clipPath id=\"clip9300\">\n",
       "    <rect x=\"0\" y=\"0\" width=\"1200\" height=\"640\"/>\n",
       "  </clipPath>\n",
       "</defs>\n",
       "<path clip-path=\"url(#clip9300)\" d=\"\n",
       "M0 640 L1200 640 L1200 0 L0 0  Z\n",
       "  \" fill=\"#ffffff\" fill-rule=\"evenodd\" fill-opacity=\"1\"/>\n",
       "<defs>\n",
       "  <clipPath id=\"clip9301\">\n",
       "    <rect x=\"240\" y=\"0\" width=\"841\" height=\"640\"/>\n",
       "  </clipPath>\n",
       "</defs>\n",
       "<path clip-path=\"url(#clip9300)\" d=\"\n",
       "M182.008 527.475 L1152.76 527.475 L1152.76 47.2441 L182.008 47.2441  Z\n",
       "  \" fill=\"#ffffff\" fill-rule=\"evenodd\" fill-opacity=\"1\"/>\n",
       "<defs>\n",
       "  <clipPath id=\"clip9302\">\n",
       "    <rect x=\"182\" y=\"47\" width=\"972\" height=\"481\"/>\n",
       "  </clipPath>\n",
       "</defs>\n",
       "<polyline clip-path=\"url(#clip9302)\" style=\"stroke:#000000; stroke-width:2; stroke-opacity:0.1; fill:none\" points=\"\n",
       "  301.062,527.475 301.062,47.2441 \n",
       "  \"/>\n",
       "<polyline clip-path=\"url(#clip9302)\" style=\"stroke:#000000; stroke-width:2; stroke-opacity:0.1; fill:none\" points=\"\n",
       "  484.222,527.475 484.222,47.2441 \n",
       "  \"/>\n",
       "<polyline clip-path=\"url(#clip9302)\" style=\"stroke:#000000; stroke-width:2; stroke-opacity:0.1; fill:none\" points=\"\n",
       "  667.382,527.475 667.382,47.2441 \n",
       "  \"/>\n",
       "<polyline clip-path=\"url(#clip9302)\" style=\"stroke:#000000; stroke-width:2; stroke-opacity:0.1; fill:none\" points=\"\n",
       "  850.542,527.475 850.542,47.2441 \n",
       "  \"/>\n",
       "<polyline clip-path=\"url(#clip9302)\" style=\"stroke:#000000; stroke-width:2; stroke-opacity:0.1; fill:none\" points=\"\n",
       "  1033.7,527.475 1033.7,47.2441 \n",
       "  \"/>\n",
       "<polyline clip-path=\"url(#clip9302)\" style=\"stroke:#000000; stroke-width:2; stroke-opacity:0.1; fill:none\" points=\"\n",
       "  182.008,513.945 1152.76,513.945 \n",
       "  \"/>\n",
       "<polyline clip-path=\"url(#clip9302)\" style=\"stroke:#000000; stroke-width:2; stroke-opacity:0.1; fill:none\" points=\"\n",
       "  182.008,400.632 1152.76,400.632 \n",
       "  \"/>\n",
       "<polyline clip-path=\"url(#clip9302)\" style=\"stroke:#000000; stroke-width:2; stroke-opacity:0.1; fill:none\" points=\"\n",
       "  182.008,287.318 1152.76,287.318 \n",
       "  \"/>\n",
       "<polyline clip-path=\"url(#clip9302)\" style=\"stroke:#000000; stroke-width:2; stroke-opacity:0.1; fill:none\" points=\"\n",
       "  182.008,174.004 1152.76,174.004 \n",
       "  \"/>\n",
       "<polyline clip-path=\"url(#clip9302)\" style=\"stroke:#000000; stroke-width:2; stroke-opacity:0.1; fill:none\" points=\"\n",
       "  182.008,60.6904 1152.76,60.6904 \n",
       "  \"/>\n",
       "<polyline clip-path=\"url(#clip9300)\" style=\"stroke:#000000; stroke-width:4; stroke-opacity:1; fill:none\" points=\"\n",
       "  182.008,527.475 1152.76,527.475 \n",
       "  \"/>\n",
       "<polyline clip-path=\"url(#clip9300)\" style=\"stroke:#000000; stroke-width:4; stroke-opacity:1; fill:none\" points=\"\n",
       "  182.008,527.475 182.008,47.2441 \n",
       "  \"/>\n",
       "<polyline clip-path=\"url(#clip9300)\" style=\"stroke:#000000; stroke-width:4; stroke-opacity:1; fill:none\" points=\"\n",
       "  301.062,527.475 301.062,521.712 \n",
       "  \"/>\n",
       "<polyline clip-path=\"url(#clip9300)\" style=\"stroke:#000000; stroke-width:4; stroke-opacity:1; fill:none\" points=\"\n",
       "  484.222,527.475 484.222,521.712 \n",
       "  \"/>\n",
       "<polyline clip-path=\"url(#clip9300)\" style=\"stroke:#000000; stroke-width:4; stroke-opacity:1; fill:none\" points=\"\n",
       "  667.382,527.475 667.382,521.712 \n",
       "  \"/>\n",
       "<polyline clip-path=\"url(#clip9300)\" style=\"stroke:#000000; stroke-width:4; stroke-opacity:1; fill:none\" points=\"\n",
       "  850.542,527.475 850.542,521.712 \n",
       "  \"/>\n",
       "<polyline clip-path=\"url(#clip9300)\" style=\"stroke:#000000; stroke-width:4; stroke-opacity:1; fill:none\" points=\"\n",
       "  1033.7,527.475 1033.7,521.712 \n",
       "  \"/>\n",
       "<polyline clip-path=\"url(#clip9300)\" style=\"stroke:#000000; stroke-width:4; stroke-opacity:1; fill:none\" points=\"\n",
       "  182.008,513.945 193.657,513.945 \n",
       "  \"/>\n",
       "<polyline clip-path=\"url(#clip9300)\" style=\"stroke:#000000; stroke-width:4; stroke-opacity:1; fill:none\" points=\"\n",
       "  182.008,400.632 193.657,400.632 \n",
       "  \"/>\n",
       "<polyline clip-path=\"url(#clip9300)\" style=\"stroke:#000000; stroke-width:4; stroke-opacity:1; fill:none\" points=\"\n",
       "  182.008,287.318 193.657,287.318 \n",
       "  \"/>\n",
       "<polyline clip-path=\"url(#clip9300)\" style=\"stroke:#000000; stroke-width:4; stroke-opacity:1; fill:none\" points=\"\n",
       "  182.008,174.004 193.657,174.004 \n",
       "  \"/>\n",
       "<polyline clip-path=\"url(#clip9300)\" style=\"stroke:#000000; stroke-width:4; stroke-opacity:1; fill:none\" points=\"\n",
       "  182.008,60.6904 193.657,60.6904 \n",
       "  \"/>\n",
       "<g clip-path=\"url(#clip9300)\">\n",
       "<text style=\"fill:#000000; fill-opacity:1; font-family:Arial,Helvetica Neue,Helvetica,sans-serif; font-size:48px; text-anchor:middle;\" transform=\"rotate(0, 301.062, 575.475)\" x=\"301.062\" y=\"575.475\">-4</text>\n",
       "</g>\n",
       "<g clip-path=\"url(#clip9300)\">\n",
       "<text style=\"fill:#000000; fill-opacity:1; font-family:Arial,Helvetica Neue,Helvetica,sans-serif; font-size:48px; text-anchor:middle;\" transform=\"rotate(0, 484.222, 575.475)\" x=\"484.222\" y=\"575.475\">-2</text>\n",
       "</g>\n",
       "<g clip-path=\"url(#clip9300)\">\n",
       "<text style=\"fill:#000000; fill-opacity:1; font-family:Arial,Helvetica Neue,Helvetica,sans-serif; font-size:48px; text-anchor:middle;\" transform=\"rotate(0, 667.382, 575.475)\" x=\"667.382\" y=\"575.475\">0</text>\n",
       "</g>\n",
       "<g clip-path=\"url(#clip9300)\">\n",
       "<text style=\"fill:#000000; fill-opacity:1; font-family:Arial,Helvetica Neue,Helvetica,sans-serif; font-size:48px; text-anchor:middle;\" transform=\"rotate(0, 850.542, 575.475)\" x=\"850.542\" y=\"575.475\">2</text>\n",
       "</g>\n",
       "<g clip-path=\"url(#clip9300)\">\n",
       "<text style=\"fill:#000000; fill-opacity:1; font-family:Arial,Helvetica Neue,Helvetica,sans-serif; font-size:48px; text-anchor:middle;\" transform=\"rotate(0, 1033.7, 575.475)\" x=\"1033.7\" y=\"575.475\">4</text>\n",
       "</g>\n",
       "<g clip-path=\"url(#clip9300)\">\n",
       "<text style=\"fill:#000000; fill-opacity:1; font-family:Arial,Helvetica Neue,Helvetica,sans-serif; font-size:48px; text-anchor:end;\" transform=\"rotate(0, 170.008, 531.445)\" x=\"170.008\" y=\"531.445\">-1.0</text>\n",
       "</g>\n",
       "<g clip-path=\"url(#clip9300)\">\n",
       "<text style=\"fill:#000000; fill-opacity:1; font-family:Arial,Helvetica Neue,Helvetica,sans-serif; font-size:48px; text-anchor:end;\" transform=\"rotate(0, 170.008, 418.132)\" x=\"170.008\" y=\"418.132\">-0.5</text>\n",
       "</g>\n",
       "<g clip-path=\"url(#clip9300)\">\n",
       "<text style=\"fill:#000000; fill-opacity:1; font-family:Arial,Helvetica Neue,Helvetica,sans-serif; font-size:48px; text-anchor:end;\" transform=\"rotate(0, 170.008, 304.818)\" x=\"170.008\" y=\"304.818\">0.0</text>\n",
       "</g>\n",
       "<g clip-path=\"url(#clip9300)\">\n",
       "<text style=\"fill:#000000; fill-opacity:1; font-family:Arial,Helvetica Neue,Helvetica,sans-serif; font-size:48px; text-anchor:end;\" transform=\"rotate(0, 170.008, 191.504)\" x=\"170.008\" y=\"191.504\">0.5</text>\n",
       "</g>\n",
       "<g clip-path=\"url(#clip9300)\">\n",
       "<text style=\"fill:#000000; fill-opacity:1; font-family:Arial,Helvetica Neue,Helvetica,sans-serif; font-size:48px; text-anchor:end;\" transform=\"rotate(0, 170.008, 78.1904)\" x=\"170.008\" y=\"78.1904\">1.0</text>\n",
       "</g>\n",
       "<polyline clip-path=\"url(#clip9302)\" style=\"stroke:#009af9; stroke-width:4; stroke-opacity:1; fill:none\" points=\"\n",
       "  209.482,69.9992 211.718,68.4947 213.954,67.1205 216.19,65.8776 218.426,64.7667 228.763,61.3632 239.1,60.8355 249.437,63.1903 259.774,68.3975 270.111,76.3908 \n",
       "  280.448,87.0687 290.785,100.295 301.121,115.902 313.546,137.527 325.97,161.905 338.394,188.587 350.818,217.084 371.827,267.921 392.836,319.775 415.658,374.089 \n",
       "  438.48,423.042 448.999,442.95 459.519,460.806 470.039,476.376 480.559,489.453 491.837,500.511 503.115,508.339 514.394,512.819 525.672,513.883 538.739,510.827 \n",
       "  551.806,503.227 564.873,491.24 577.94,475.108 589.553,457.557 601.165,437.272 612.777,414.579 624.39,389.843 644.756,342.741 665.122,292.91 687.327,238.351 \n",
       "  709.531,186.657 720.699,162.705 731.868,140.603 743.036,120.681 754.204,103.233 766.552,87.1352 778.9,74.6708 791.248,66.0665 803.596,61.4784 815.345,60.9185 \n",
       "  827.093,64.0795 838.842,70.9096 850.591,81.2965 862.807,95.6842 875.023,113.477 887.239,134.358 899.455,157.956 920.021,202.643 940.588,251.582 965.697,313.51 \n",
       "  990.806,373.482 1002.61,399.705 1014.41,424.064 1026.21,446.155 1038.01,465.612 1047.47,479.078 1056.92,490.503 1066.37,499.765 1075.83,506.765 1085.28,511.429 \n",
       "  1094.74,513.706 1104.19,513.574 1113.64,511.032 1116.55,509.768 1119.46,508.28 1122.37,506.569 1125.28,504.636 \n",
       "  \"/>\n",
       "</svg>\n"
      ]
     },
     "metadata": {},
     "output_type": "display_data"
    },
    {
     "name": "stdout",
     "output_type": "stream",
     "text": [
      "\n",
      "plot(sin) -> 16.132963 seconds (22.46 M allocations: 1.086 GiB, 2.09% gc time)\n",
      "\n",
      "using PyPlot ->  7.540091 seconds (10.27 M allocations: 504.702 MiB, 2.05% gc time)\n",
      "\n",
      "using DifferentialEquations ->"
     ]
    },
    {
     "name": "stderr",
     "output_type": "stream",
     "text": [
      "┌ Info: Precompiling DifferentialEquations [0c46a032-eb83-5123-abaf-570d42b7fbaa]\n",
      "└ @ Base loading.jl:1273\n"
     ]
    }
   ],
   "source": [
    "import Pkg\n",
    "Pkg.add(\"Plots\")\n",
    "Pkg.add(\"PyPlot\")\n",
    "Pkg.add(\"DifferentialEquations\")\n",
    "Pkg.add(\"Combinatorics\")\n",
    "Pkg.add(\"Distributed\")\n",
    "Pkg.add(\"Distributions\")\n",
    "Pkg.add(\"Libdl\")\n",
    "Pkg.add(\"LinearAlgebra\")\n",
    "Pkg.add(\"Optim\")\n",
    "Pkg.add(\"Primes\")\n",
    "Pkg.add(\"ProgressMeter\")\n",
    "Pkg.add(\"RCall\")\n",
    "Pkg.add(\"SpecialFunctions\")\n",
    "Pkg.add(\"Statistics\")\n",
    "Pkg.add(\"SymPy\")\n",
    "\n",
    "print(\"using Plots ->\")\n",
    "@time using Plots\n",
    "gr(legend=false); ENV[\"PLOTS_TEST\"] = \"true\"\n",
    "\n",
    "print(\"\\nplot(sin) ->\")\n",
    "@time plot(sin, size=(300, 160)) |> display # コンパイル\n",
    "\n",
    "print(\"\\nusing PyPlot ->\")\n",
    "@time using PyPlot: PyPlot, plt\n",
    "\n",
    "print(\"\\nusing DifferentialEquations ->\")\n",
    "@time using DifferentialEquations\n",
    "\n",
    "using Base64\n",
    "using Combinatorics\n",
    "using Distributed\n",
    "using Distributions\n",
    "using Libdl\n",
    "using LinearAlgebra\n",
    "using Optim\n",
    "using Primes\n",
    "using ProgressMeter\n",
    "using Random: seed!\n",
    "using RCall\n",
    "using SpecialFunctions\n",
    "using Statistics\n",
    "using SymPy: SymPy, sympy, Sym, @vars, @syms, simplify, oo, PI\n",
    "\n",
    "ldisp(x...) = display(\"text/html\", raw\"$$\" * prod(x) * raw\"$$\")\n",
    "\n",
    "showimg(mime, fn) = open(fn) do f\n",
    "    base64 = base64encode(f)\n",
    "    display(\"text/html\", \"\"\"<img src=\"data:$mime;base64,$base64\">\"\"\")\n",
    "end"
   ]
  },
  {
   "cell_type": "code",
   "execution_count": 2,
   "metadata": {
    "lc_cell_meme": {
     "current": "34cbb7ac-088d-11eb-bd7d-02420a010115",
     "history": [
      {
       "current": "34cbb7ac-088d-11eb-bd7d-02420a010115",
       "next": "34cbb8d8-088d-11eb-bd7d-02420a010115",
       "previous": "34cbb5e0-088d-11eb-bd7d-02420a010115"
      }
     ],
     "next": "34cbb8d8-088d-11eb-bd7d-02420a010115",
     "previous": "34cbbba8-088d-11eb-bd7d-02420a010115"
    },
    "slideshow": {
     "slide_type": "-"
    }
   },
   "outputs": [
    {
     "name": "stdout",
     "output_type": "stream",
     "text": [
      "\u001b[32m\u001b[1m Resolving\u001b[22m\u001b[39m package versions...\n",
      "\u001b[32m\u001b[1m  Updating\u001b[22m\u001b[39m `/opt/julia/environments/v1.3/Project.toml`\n",
      "\u001b[90m [no changes]\u001b[39m\n",
      "\u001b[32m\u001b[1m  Updating\u001b[22m\u001b[39m `/opt/julia/environments/v1.3/Manifest.toml`\n",
      "\u001b[90m [no changes]\u001b[39m\n"
     ]
    },
    {
     "data": {
      "text/plain": [
       "plot_SatoTate_4 (generic function with 1 method)"
      ]
     },
     "execution_count": 2,
     "metadata": {},
     "output_type": "execute_result"
    }
   ],
   "source": [
    "Pkg.add(\"StatsBase\")\n",
    "using StatsBase\n",
    "\n",
    "function nrationalpoints_naive(f, p)\n",
    "    @distributed (+) for x in 0:p-1\n",
    "        s = 0\n",
    "        for y in 0:p-1\n",
    "            s += ifelse(mod(f(x,y),p) == 0, 1, 0)\n",
    "        end\n",
    "        s\n",
    "    end\n",
    "end\n",
    "\n",
    "function plot_SatoTate_naive(f; figtitle=\"Sato-Tate conjecture\", N=2^12)\n",
    "    P = primes(N)\n",
    "    @show N, length(P)\n",
    "    @time S = nrationalpoints_naive.(f, P) .+ 1 # \"+1\" は無限遠点の個数\n",
    "    plot_SatoTate(P, S; figtitle=figtitle)\n",
    "end\n",
    "\n",
    "function nrationalpoints_legendre(g, p)\n",
    "    @distributed (+) for x in 0:p-1\n",
    "        l = legendresymbol(mod(g(x),p), p)\n",
    "        ifelse(l == 1, 2, ifelse(l == -1, 0, 1))\n",
    "    end\n",
    "end\n",
    "\n",
    "function plot_SatoTate_legendre(f; figtitle=\"Sato-Tate conjecture\", N=2^12)\n",
    "    P = primes(N)\n",
    "    @show N, length(P)\n",
    "    @time S = nrationalpoints_legendre.(f, P) .+ 1 # \"+1\" は無限遠点の個数\n",
    "    plot_SatoTate(P, S; figtitle=figtitle)\n",
    "end\n",
    "\n",
    "function plot_SatoTate(P, S; figtitle=\"Sato-Tate conjecture\")\n",
    "    a = (P .+ 1) - S\n",
    "\n",
    "    @show count(abs.(a) .> 2sqrt.(P)) # Weil予想の確認\n",
    "    X = a ./ (2sqrt.(P)) # -1 から 1 の区間に入るように正規化\n",
    "    θ = acos.(X)\n",
    "\n",
    "    x = range(-1, 1, length=200)\n",
    "    g(x) = (2/π)*sqrt(1-x^2) # 半円則\n",
    "\n",
    "    t = range(0, π, length=200)\n",
    "    h(t) = (2/π)*sin(t)^2 # sin^2 分布\n",
    "\n",
    "    sleep(0.1)\n",
    "    plt.figure(figsize=(8,3))\n",
    "    \n",
    "    plt.subplot(121)\n",
    "    plt.hist(X, normed=true, bins=21, alpha=0.5, label=\"\\$a_p/(2\\\\sqrt{p})\\$\")\n",
    "    plt.plot(x, g.(x), color=\"red\", ls=\"--\", label=\"\\$y=(2/\\\\pi)\\\\sqrt{1-x^2}\\$\")\n",
    "    plt.xlabel(\"\\$x\\$\")\n",
    "    plt.grid(ls=\":\")\n",
    "    plt.legend(fontsize=9)\n",
    "    plt.title(figtitle, fontsize=10)\n",
    "    \n",
    "    plt.subplot(122)\n",
    "    plt.hist(θ, normed=true, bins=21, alpha=0.5, label=\"\\$\\\\arccos(a_p/(2\\\\sqrt{p}))\")\n",
    "    plt.plot(t, h.(t), color=\"red\", ls=\"--\", label=\"\\$y=(2/\\\\pi)\\\\sin^2\\\\theta\\$\")\n",
    "    plt.xlabel(\"\\$\\\\theta\\$\")\n",
    "    plt.grid(ls=\":\")\n",
    "    plt.legend(fontsize=8)\n",
    "    plt.title(figtitle, fontsize=10)\n",
    "    plt.tight_layout()\n",
    "    println(fit(Histogram, 180θ/π,  0.0:10.0:180.0, closed= :right))\n",
    "end\n",
    "\n",
    "function plot_SatoTate_legendre_4(f; figtitle=\"Sato-Tate conjecture\", N=2^12)\n",
    "    P = primes(N)\n",
    "    @show N, length(P)\n",
    "    @time S = nrationalpoints_legendre.(f, P) .+ 1 # \"+1\" は無限遠点の個数\n",
    "    plot_SatoTate_4(P, S; figtitle=figtitle)\n",
    "end\n",
    "\n",
    "function plot_SatoTate_4(P, S; figtitle=\"Sato-Tate conjecture\")\n",
    "    a = (P .+ 1) - S\n",
    "\n",
    "    @show count(abs.(a) .> 4sqrt.(P)) # Weil予想の確認\n",
    "    X = a ./ (4sqrt.(P)) # -1 から 1 の区間に入るように正規化\n",
    "    θ = acos.(X)\n",
    "\n",
    "    x = range(-1, 1, length=200)\n",
    "    g(x) = (6/π)*sqrt(1-x^2) # 半円則\n",
    "\n",
    "    t = range(0, π, length=200)\n",
    "    h(t) = (6/π)*sin(t)^2 # sin^2 分布\n",
    "\n",
    "    sleep(0.1)\n",
    "    plt.figure(figsize=(8,3))\n",
    "    \n",
    "    plt.subplot(121)\n",
    "    plt.hist(X, normed=true, bins=21, alpha=0.5, label=\"\\$a_p/(2\\\\sqrt{p})\\$\")\n",
    "    plt.plot(x, g.(x), color=\"red\", ls=\"--\", label=\"\\$y=(2/\\\\pi)\\\\sqrt{1-x^2}\\$\")\n",
    "    plt.xlabel(\"\\$x\\$\")\n",
    "    plt.grid(ls=\":\")\n",
    "    plt.legend(fontsize=9)\n",
    "    plt.title(figtitle, fontsize=10)\n",
    "    \n",
    "    plt.subplot(122)\n",
    "    plt.hist(θ, normed=true, bins=21, alpha=0.5, label=\"\\$\\\\arccos(a_p/(2\\\\sqrt{p}))\")\n",
    "    plt.plot(t, h.(t), color=\"red\", ls=\"--\", label=\"\\$y=(2/\\\\pi)\\\\sin^2\\\\theta\\$\")\n",
    "    plt.xlabel(\"\\$\\\\theta\\$\")\n",
    "    plt.grid(ls=\":\")\n",
    "    plt.legend(fontsize=8)\n",
    "    plt.title(figtitle, fontsize=10)\n",
    "\n",
    "    plt.tight_layout()\n",
    "end"
   ]
  },
  {
   "cell_type": "markdown",
   "metadata": {
    "lc_cell_meme": {
     "current": "34cbb8d8-088d-11eb-bd7d-02420a010115",
     "next": "34cbb9fa-088d-11eb-bd7d-02420a010115",
     "previous": "34cbb7ac-088d-11eb-bd7d-02420a010115"
    },
    "slideshow": {
     "slide_type": "subslide"
    }
   },
   "source": [
    "楕円曲線 $y^2 = x^3 + x + 1$ の場合の佐藤・Tate予想を数値的に確認.\n",
    "\n",
    "Legendre記号を使った計算によって高速化し, より多数の素数における有理点の個数を求める."
   ]
  },
  {
   "cell_type": "code",
   "execution_count": 3,
   "metadata": {
    "lc_cell_meme": {
     "current": "34cbb9fa-088d-11eb-bd7d-02420a010115",
     "next": null,
     "previous": "34cbb8d8-088d-11eb-bd7d-02420a010115"
    },
    "slideshow": {
     "slide_type": "-"
    }
   },
   "outputs": [
    {
     "name": "stdout",
     "output_type": "stream",
     "text": [
      "(N, length(P)) = (16384, 1900)\n",
      " 13.689754 seconds (9.86 M allocations: 406.471 MiB, 0.72% gc time)\n",
      "count(abs.(a) .> 2 * sqrt.(P)) = 0\n",
      "Histogram{Int64,1,Tuple{StepRangeLen{Float64,Base.TwicePrecision{Float64},Base.TwicePrecision{Float64}}}}\n",
      "edges:\n",
      "  0.0:10.0:180.0\n",
      "weights: [1, 16, 44, 63, 101, 130, 178, 200, 230, 198, 201, 176, 129, 112, 70, 29, 17, 5]\n",
      "closed: right\n",
      "isdensity: false\n"
     ]
    },
    {
     "data": {
      "image/png": "[encoded data removed]",
      "text/plain": [
       "PyPlot.Figure(PyObject <Figure size 800x300 with 2 Axes>)"
      ]
     },
     "metadata": {},
     "output_type": "display_data"
    }
   ],
   "source": [
    "addedprocs = addprocs(40)\n",
    "@everywhere using Combinatorics: legendresymbol\n",
    "@everywhere g(x) = x^3+x+1\n",
    "N = 2^14\n",
    "figtitle = \"Sat-Tate conj. for  \\$y^2 = x^3+x+1\\$,  \\$p < 2^{14}\\$\"\n",
    "plot_SatoTate_legendre(g, figtitle=figtitle, N=N)\n",
    "rmprocs(addedprocs);"
   ]
  }
 ],
 "metadata": {
  "_draft": {
   "nbviewer_url": "https://gist.github.com/91db4780c941f8c49a968ad27d27f46c"
  },
  "gist": {
   "data": {
    "description": "msfd28/Julia/msfd28genkuroki.ipynb",
    "public": true
   },
   "id": "91db4780c941f8c49a968ad27d27f46c"
  },
  "kernelspec": {
   "display_name": "Julia 1.3.1",
   "language": "julia",
   "name": "julia-1.3"
  },
  "language_info": {
   "file_extension": ".jl",
   "mimetype": "application/julia",
   "name": "julia",
   "version": "1.3.1"
  },
  "lc_notebook_meme": {
   "current": "34cbb144-088d-11eb-bd7d-02420a010115",
   "lc_server_signature": {
    "current": {
     "notebook_dir": "/home/yoko69d621",
     "notebook_path": "/sato-tate",
     "server_url": "https://nb03.ecloud.nii.ac.jp/user/yoko69d621/",
     "signature_id": "5e786c6e-5fea-11e9-b810-02420a00005a"
    },
    "history": []
   }
  },
  "toc": {
   "base_numbering": 1,
   "nav_menu": {},
   "number_sections": true,
   "sideBar": true,
   "skip_h1_title": true,
   "title_cell": "目次",
   "title_sidebar": "目次",
   "toc_cell": true,
   "toc_position": {
    "height": "calc(100% - 180px)",
    "left": "10px",
    "top": "150px",
    "width": "249.332px"
   },
   "toc_section_display": true,
   "toc_window_display": false
  }
 },
 "nbformat": 4,
 "nbformat_minor": 2
}
