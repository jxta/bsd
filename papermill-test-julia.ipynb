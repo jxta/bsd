{
 "cells": [
  {
   "cell_type": "code",
   "execution_count": null,
   "metadata": {},
   "outputs": [],
   "source": [
    "#!/usr/bin/env python3\n",
    "import os\n",
    "import ethercalc\n",
    "\n",
    "sheet_id = 'v0nnp75ndt8u'\n",
    "e = ethercalc.EtherCalc(\"https://ethercalc.net\")\n",
    "\n",
    "for i in range(1,30):\n",
    "    print (\"C\"+str(i))\n",
    "    status = e.cells(sheet_id, \"C\"+str(i))[\"datavalue\"]\n",
    "    if status == 'w':\n",
    "        A = e.cells(sheet_id, \"A\"+str(i))[\"datavalue\"]\n",
    "        B = e.cells(sheet_id, \"B\"+str(i))[\"datavalue\"]\n",
    "        str_A = str(A)\n",
    "        str_B = str(B)\n",
    "        print (i, A, B)\n",
    "        cmd = \"papermill\"+\" \"+\"bsd-nemo-3.ipynb\"+\" \"+\"out_\" + str_A+\"_\"+str_B+\"_10000.ipynb\"+\" -p A \"+ str_A+\"  -p B \"+ str_B+\" -p N 10000\"\n",
    "        print(cmd)\n",
    "        e.command(sheet_id, [ethercalc.set(\"C\"+str(i), \"'r\")])\n",
    "        os.system(cmd)\n",
    "        e.command(sheet_id, [ ethercalc.set(\"C\"+str(i), \"'d\")])"
   ]
  },
  {
   "cell_type": "code",
   "execution_count": null,
   "metadata": {},
   "outputs": [],
   "source": []
  }
 ],
 "metadata": {
  "kernelspec": {
   "display_name": "Python 3",
   "language": "python",
   "name": "python3"
  },
  "language_info": {
   "codemirror_mode": {
    "name": "ipython",
    "version": 3
   },
   "file_extension": ".py",
   "mimetype": "text/x-python",
   "name": "python",
   "nbconvert_exporter": "python",
   "pygments_lexer": "ipython3",
   "version": "3.8.5"
  }
 },
 "nbformat": 4,
 "nbformat_minor": 2
}
