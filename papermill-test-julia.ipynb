{
 "cells": [
  {
   "cell_type": "code",
   "execution_count": null,
   "metadata": {},
   "outputs": [],
   "source": [
    "#!/usr/bin/env python3\n",
    "import os\n",
    "import ethercalc\n",
    "\n",
    "sheet_id = 'v0nnp75ndt8u'\n",
    "e = ethercalc.EtherCalc(\"https://ethercalc.net\")\n",
    "\n",
    "for i in range(1,30):\n",
    "    print (\"C\"+str(i))\n",
    "    status = e.cells(sheet_id, \"S\"+str(i))[\"datavalue\"]\n",
    "    if status == 'w':\n",
    "        A = e.cells(sheet_id, \"A\"+str(i))[\"datavalue\"]\n",
    "        B = e.cells(sheet_id, \"B\"+str(i))[\"datavalue\"]\n",
    "        N = e.cells(sheet_id, \"C\"+str(i))[\"datavalue\"]\n",
    "        str_A = str(A)\n",
    "        str_B = str(B)\n",
    "        str_N = str(N)\n",
    "        print (i, A, B)\n",
    "        cmd = \"papermill\"+\" \"+\"bsd-nemo-7.ipynb\"+\" \"+\"out_\" + str_A+\"_\"+str_B+\"_\"+str_N+\" -p A \"+ str_A+\"  -p B \"+ str_B+\" -p N \" + str_N +\" -k julia-1.5 \" \n",
    "        print(cmd)\n",
    "        e.command(sheet_id, [ethercalc.set(\"S\"+str(i), \"'r\")])\n",
    "        os.system(cmd)\n",
    "        e.command(sheet_id, [ ethercalc.set(\"S\"+str(i), \"'d\")])"
   ]
  }
 ],
 "metadata": {
  "kernelspec": {
   "display_name": "Python 3",
   "language": "python",
   "name": "python3"
  },
  "language_info": {
   "codemirror_mode": {
    "name": "ipython",
    "version": 3
   },
   "file_extension": ".py",
   "mimetype": "text/x-python",
   "name": "python",
   "nbconvert_exporter": "python",
   "pygments_lexer": "ipython3",
   "version": "3.8.5"
  }
 },
 "nbformat": 4,
 "nbformat_minor": 2
}
