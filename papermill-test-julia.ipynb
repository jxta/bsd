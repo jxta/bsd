{
 "cells": [
  {
   "cell_type": "code",
   "execution_count": null,
   "metadata": {},
   "outputs": [],
   "source": [
    "#!/usr/bin/env python3\n",
    "import os\n",
    "import ethercalc\n",
    "\n",
    "sheet_id = 'v0nnp75ndt8u'\n",
    "e = ethercalc.EtherCalc(\"https://ethercalc.net\")\n",
    "\n",
    "for i in range(1,37):\n",
    "    print (\"C\"+str(i))\n",
    "    status = e.cells(sheet_id, \"S\"+str(i))[\"datavalue\"]\n",
    "    if status == 'w':\n",
    "        A = e.cells(sheet_id, \"A\"+str(i))[\"datavalue\"]\n",
    "        B = e.cells(sheet_id, \"B\"+str(i))[\"datavalue\"]\n",
    "        N = e.cells(sheet_id, \"C\"+str(i))[\"datavalue\"]\n",
    "        str_A = str(A)\n",
    "        str_B = str(B)\n",
    "        str_N = str(N)\n",
    "        print (i, A, B)\n",
    "        output_file = \"out_\"+str_A+\"_\"+str_B+\"_\"+str_N+\".ipynb\"\n",
    "        parameters = \" -p A \"+ str_A+\"  -p B \"+ str_B+\" -p N \" + str_N\n",
    "        cmd = [\"papermill\", \"ec-hecke.ipynb\", output_file, parameters,  \"-k julia-1.5 \" ]\n",
    "        str_cmd = '  '.join(cmd)\n",
    "        print(str_cmd)\n",
    "        e.command(sheet_id, [ethercalc.set(\"S\"+str(i), \"'r\")])\n",
    "        os.system(str_cmd)\n",
    "        e.command(sheet_id, [ ethercalc.set(\"S\"+str(i), \"'d\")])"
   ]
  }
 ],
 "metadata": {
  "kernelspec": {
   "display_name": "Python 3",
   "language": "python",
   "name": "python3"
  },
  "language_info": {
   "codemirror_mode": {
    "name": "ipython",
    "version": 3
   },
   "file_extension": ".py",
   "mimetype": "text/x-python",
   "name": "python",
   "nbconvert_exporter": "python",
   "pygments_lexer": "ipython3",
   "version": "3.7.6"
  }
 },
 "nbformat": 4,
 "nbformat_minor": 4
}
