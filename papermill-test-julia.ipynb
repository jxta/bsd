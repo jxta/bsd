{
 "cells": [
  {
   "cell_type": "code",
   "execution_count": null,
   "metadata": {},
   "outputs": [
    {
     "name": "stdout",
     "output_type": "stream",
     "text": [
      "Input Notebook:  bsd-julia.ipynb\n",
      "Output Notebook: out_1_m11_10000.ipynb\n",
      "Input notebook does not contain a cell with tag 'parameters'\n",
      "Executing:   0%|                                        | 0/4 [00:00<?, ?cell/s]Starting kernel event loops.\n",
      "Executing notebook with kernel: julia-1.5\n",
      "Executing:  25%|████████                        | 1/4 [00:09<00:28,  9.58s/cell]"
     ]
    }
   ],
   "source": [
    "!papermill bsd-julia.ipynb out_1_m11_10000.ipynb -p A 1 -p B -11  -p N 10000"
   ]
  },
  {
   "cell_type": "code",
   "execution_count": null,
   "metadata": {},
   "outputs": [],
   "source": []
  }
 ],
 "metadata": {
  "kernelspec": {
   "display_name": "Python 3",
   "language": "python",
   "name": "python3"
  },
  "language_info": {
   "codemirror_mode": {
    "name": "ipython",
    "version": 3
   },
   "file_extension": ".py",
   "mimetype": "text/x-python",
   "name": "python",
   "nbconvert_exporter": "python",
   "pygments_lexer": "ipython3",
   "version": "3.8.5"
  }
 },
 "nbformat": 4,
 "nbformat_minor": 2
}
