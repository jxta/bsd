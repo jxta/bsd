{
 "cells": [
  {
   "cell_type": "code",
   "execution_count": 31,
   "metadata": {
    "tags": [
     "parameters"
    ]
   },
   "outputs": [
    {
     "data": {
      "text/plain": [
       "10000"
      ]
     },
     "execution_count": 31,
     "metadata": {},
     "output_type": "execute_result"
    }
   ],
   "source": [
    "A = 0\n",
    "B = 1\n",
    "N = 10000"
   ]
  },
  {
   "cell_type": "code",
   "execution_count": null,
   "metadata": {},
   "outputs": [
    {
     "name": "stderr",
     "output_type": "stream",
     "text": [
      "\u001b[32m\u001b[1m  Resolving\u001b[22m\u001b[39m package versions...\n",
      "\u001b[32m\u001b[1mNo Changes\u001b[22m\u001b[39m to `/opt/julia/environments/v1.5/Project.toml`\n",
      "\u001b[32m\u001b[1mNo Changes\u001b[22m\u001b[39m to `/opt/julia/environments/v1.5/Manifest.toml`\n",
      "\u001b[32m\u001b[1m  Resolving\u001b[22m\u001b[39m package versions...\n"
     ]
    }
   ],
   "source": [
    "import Pkg\n",
    "Pkg.add(\"PyPlot\")\n",
    "Pkg.add(\"Primes\")\n",
    "\n",
    "using Primes\n",
    "using PyPlot: PyPlot, plt\n",
    "\n",
    "\n",
    "function counting_points(p) \n",
    "    s =0\n",
    "    for a in 0:p-1\n",
    "        for b in 0:p-1\n",
    "            if (b*b - (a*a*a+A*a +B) ) % p == 0\n",
    "                s += 1 \n",
    "            end\n",
    "        end\n",
    "    end\n",
    "    s+1\n",
    "end\n",
    "    \n",
    "product = 1\n",
    "i = 1\n",
    "\n",
    "P = primes(N+1000)\n",
    "\n",
    "while P[i] < N\n",
    "#    print(i,  \" ,\", P[i],  \" ,\")\n",
    "    p = P[i]\n",
    "    n = counting_points(p)\n",
    "# #E_p(F_p) 計算 n 代入\n",
    "    product *= n/p\n",
    "    plt.scatter(log(p), product)\n",
    "    i = i+1\n",
    "end\n",
    "\n",
    "print(\"finished\")\n",
    "\n",
    "plt.show()\n",
    "#plt.show(scale='loglog')"
   ]
  },
  {
   "cell_type": "code",
   "execution_count": null,
   "metadata": {},
   "outputs": [],
   "source": []
  }
 ],
 "metadata": {
  "celltoolbar": "Tags",
  "kernelspec": {
   "display_name": "Julia 1.5.0",
   "language": "julia",
   "name": "julia-1.5"
  },
  "language_info": {
   "file_extension": ".jl",
   "mimetype": "application/julia",
   "name": "julia",
   "version": "1.5.0"
  }
 },
 "nbformat": 4,
 "nbformat_minor": 4
}
