{
 "cells": [
  {
   "cell_type": "code",
   "execution_count": 5,
   "metadata": {
    "tags": [
     "parameters"
    ]
   },
   "outputs": [
    {
     "data": {
      "text/plain": [
       "10000"
      ]
     },
     "execution_count": 5,
     "metadata": {},
     "output_type": "execute_result"
    }
   ],
   "source": [
    "A = 0\n",
    "B = -2\n",
    "N = 10000"
   ]
  },
  {
   "cell_type": "code",
   "execution_count": null,
   "metadata": {},
   "outputs": [
    {
     "name": "stderr",
     "output_type": "stream",
     "text": [
      "\u001b[32m\u001b[1m  Resolving\u001b[22m\u001b[39m package versions...\n"
     ]
    }
   ],
   "source": [
    "import Pkg\n",
    "Pkg.add(\"PyPlot\")\n",
    "Pkg.add(\"Primes\")\n",
    "\n",
    "using Primes\n",
    "using PyPlot: PyPlot, plt\n",
    "\n",
    "\n",
    "function counting_points(p) \n",
    "    s =0\n",
    "    for a in 0:p-1\n",
    "        for b in 0:p-1\n",
    "            if (b*b - (a*a*a+A*a +B) ) % p == 0\n",
    "                s += 1 \n",
    "            end\n",
    "        end\n",
    "    end\n",
    "    s+1\n",
    "end\n",
    "    \n",
    "product = 1\n",
    "i = 1\n",
    "\n",
    "P = primes(N+1000)\n",
    "\n",
    "while P[i] < N\n",
    "#    print(i,  \" ,\", P[i],  \" ,\")\n",
    "    p = P[i]\n",
    "    n = counting_points(p)\n",
    "# #E_p(F_p) 計算 n 代入\n",
    "    product *= n/p\n",
    "    plt.scatter(log(p), product, s=1, color="blue")\n",
    "    i = i+1\n",
    "end\n",
    "\n",
    "print(\"finished\")\n",
    "plt.yscale(\"log\")\n",
    "plt.show()\n",
    "#plt.show(scale='loglog')"
   ]
  },
  {
   "cell_type": "code",
   "execution_count": null,
   "metadata": {},
   "outputs": [],
   "source": []
  }
 ],
 "metadata": {
  "celltoolbar": "Tags",
  "kernelspec": {
   "display_name": "Julia 1.5.0",
   "language": "julia",
   "name": "julia-1.5"
  },
  "language_info": {
   "file_extension": ".jl",
   "mimetype": "application/julia",
   "name": "julia",
   "version": "1.5.0"
  }
 },
 "nbformat": 4,
 "nbformat_minor": 4
}
