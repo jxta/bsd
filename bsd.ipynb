{
 "cells": [
  {
   "cell_type": "code",
   "execution_count": null,
   "metadata": {
    "tags": [
     "parameters"
    ]
   },
   "outputs": [],
   "source": [
    "A = 0\n",
    "B = 1\n",
    "N = 100000"
   ]
  },
  {
   "cell_type": "code",
   "execution_count": null,
   "metadata": {},
   "outputs": [],
   "source": [
    "def counting_points(p): \n",
    "    try:\n",
    "        E = EllipticCurve(GF(p),[A,B]); E\n",
    "        return E.cardinality() \n",
    "    except ArithmeticError:\n",
    "        #print('ArithmeticError')\n",
    "        s =0\n",
    "        for a in range(p):\n",
    "            for b in range(p):\n",
    "                if (b*b - (a*a*a+A*a +B) ) % p == 0:\n",
    "                    s += 1 \n",
    "        return s+1\n",
    "    \n",
    "p= 2\n",
    "data = [] \n",
    "product = 1\n",
    "\n",
    "P = Primes() \n",
    "while p < N:\n",
    "    n = counting_points(p)\n",
    "#print(p, n)\n",
    "# #E_p(F_p) 計算 n 代入\n",
    "    product *= n/p\n",
    "    data.append( (log(p), product) ) #print(\"\")\n",
    "    p = P.next(p)\n",
    "    \n",
    "print('finished')\n",
    "pl = point(data) \n",
    "pl.show(scale='loglog')"
   ]
  }
 ],
 "metadata": {
  "celltoolbar": "Tags",
  "kernelspec": {
   "display_name": "SageMath 8.6",
   "language": "",
   "name": "sagemath"
  },
  "language_info": {
   "codemirror_mode": {
    "name": "ipython",
    "version": 2
   },
   "file_extension": ".py",
   "mimetype": "text/x-python",
   "name": "python",
   "nbconvert_exporter": "python",
   "pygments_lexer": "ipython2",
   "version": "2.7.15"
  }
 },
 "nbformat": 4,
 "nbformat_minor": 2
}
