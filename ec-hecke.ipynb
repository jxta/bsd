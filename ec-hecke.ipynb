{
 "cells": [
  {
   "cell_type": "code",
   "execution_count": null,
   "metadata": {
    "tags": [
     "parameters"
    ]
   },
   "outputs": [],
   "source": [
    "A = 0\n",
    "B = 113 \n",
    "N = 100000"
   ]
  },
  {
   "cell_type": "code",
   "execution_count": null,
   "metadata": {},
   "outputs": [],
   "source": [
    "import Pkg\n",
    "\n",
    "Pkg.add(\"Nemo\")\n",
    "Pkg.add(\"Hecke\")\n",
    "Pkg.add(\"PyPlot\")\n",
    "Pkg.add(\"Primes\")\n",
    "Pkg.add(\"CPUTime\")\n",
    "\n",
    "using Nemo\n",
    "using Hecke\n",
    "using Primes\n",
    "using PyPlot: PyPlot, plt\n",
    "using CPUTime\n",
    "\n",
    "plt.figure(figsize=(30, 30))\n",
    "    \n",
    "P = primes(N+1000)\n",
    "\n",
    "function plot_bsd()\n",
    "    product = 1.0\n",
    "    i = 3\n",
    "    while P[i] < N\n",
    "        p = P[i]\n",
    "    \n",
    "        F = GF(p)\n",
    "        a = F(A)\n",
    "        b = F(B)\n",
    "\n",
    "        E = EllipticCurve([a,b], false)\n",
    "        n = Int64(order_via_schoof(E))\n",
    "\n",
    "        product *= n/p\n",
    "        plt.scatter(log(p), product, s=3, color=\"blue\")\n",
    "        i = i+1\n",
    "    end\n",
    "end\n",
    "\n",
    "CPUtic()\n",
    "\n",
    "plot_bsd()\n",
    "\n",
    "CPUtoc()\n",
    "\n",
    "plt.xscale(\"log\")\n",
    "plt.yscale(\"log\")\n",
    "plt.show()\n"
   ]
  }
 ],
 "metadata": {
  "celltoolbar": "Tags",
  "kernelspec": {
   "display_name": "Julia 1.3.1",
   "language": "julia",
   "name": "julia-1.3"
  },
  "language_info": {
   "file_extension": ".jl",
   "mimetype": "application/julia",
   "name": "julia",
   "version": "1.3.1"
  }
 },
 "nbformat": 4,
 "nbformat_minor": 4
}
