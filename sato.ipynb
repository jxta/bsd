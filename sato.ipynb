{
 "cells": [
  {
   "cell_type": "code",
   "execution_count": 5,
   "metadata": {
    "tags": [
     "parameters"
    ]
   },
   "outputs": [
    {
     "data": {
      "text/plain": [
       "10"
      ]
     },
     "execution_count": 5,
     "metadata": {},
     "output_type": "execute_result"
    }
   ],
   "source": [
    "a =1\n",
    "b =2\n",
    "c =1\n",
    "d =1\n",
    "n =10"
   ]
  },
  {
   "cell_type": "code",
   "execution_count": null,
   "metadata": {
    "scrolled": true,
    "slideshow": {
     "slide_type": "-"
    }
   },
   "outputs": [
    {
     "name": "stdout",
     "output_type": "stream",
     "text": [
      "using Plots -> 49.024834 seconds (16.55 M allocations: 945.356 MiB, 1.24% gc time)\n",
      "\n",
      "plot(sin) ->"
     ]
    },
    {
     "data": {
      "image/svg+xml": [
       "<?xml version=\"1.0\" encoding=\"utf-8\"?>\n",
       "<svg xmlns=\"http://www.w3.org/2000/svg\" xmlns:xlink=\"http://www.w3.org/1999/xlink\" width=\"300\" height=\"160\" viewBox=\"0 0 1200 640\">\n",
       "<defs>\n",
       "  <clipPath id=\"clip350\">\n",
       "    <rect x=\"0\" y=\"0\" width=\"1200\" height=\"640\"/>\n",
       "  </clipPath>\n",
       "</defs>\n",
       "<path clip-path=\"url(#clip350)\" d=\"\n",
       "M0 640 L1200 640 L1200 0 L0 0  Z\n",
       "  \" fill=\"#ffffff\" fill-rule=\"evenodd\" fill-opacity=\"1\"/>\n",
       "<defs>\n",
       "  <clipPath id=\"clip351\">\n",
       "    <rect x=\"240\" y=\"0\" width=\"841\" height=\"640\"/>\n",
       "  </clipPath>\n",
       "</defs>\n",
       "<path clip-path=\"url(#clip350)\" d=\"\n",
       "M167.654 542.96 L1152.76 542.96 L1152.76 47.2441 L167.654 47.2441  Z\n",
       "  \" fill=\"#ffffff\" fill-rule=\"evenodd\" fill-opacity=\"1\"/>\n",
       "<defs>\n",
       "  <clipPath id=\"clip352\">\n",
       "    <rect x=\"167\" y=\"47\" width=\"986\" height=\"497\"/>\n",
       "  </clipPath>\n",
       "</defs>\n",
       "<polyline clip-path=\"url(#clip352)\" style=\"stroke:#000000; stroke-width:2; stroke-opacity:0.1; fill:none\" points=\"\n",
       "  288.468,542.96 288.468,47.2441 \n",
       "  \"/>\n",
       "<polyline clip-path=\"url(#clip352)\" style=\"stroke:#000000; stroke-width:2; stroke-opacity:0.1; fill:none\" points=\"\n",
       "  474.336,542.96 474.336,47.2441 \n",
       "  \"/>\n",
       "<polyline clip-path=\"url(#clip352)\" style=\"stroke:#000000; stroke-width:2; stroke-opacity:0.1; fill:none\" points=\"\n",
       "  660.205,542.96 660.205,47.2441 \n",
       "  \"/>\n",
       "<polyline clip-path=\"url(#clip352)\" style=\"stroke:#000000; stroke-width:2; stroke-opacity:0.1; fill:none\" points=\"\n",
       "  846.073,542.96 846.073,47.2441 \n",
       "  \"/>\n",
       "<polyline clip-path=\"url(#clip352)\" style=\"stroke:#000000; stroke-width:2; stroke-opacity:0.1; fill:none\" points=\"\n",
       "  1031.94,542.96 1031.94,47.2441 \n",
       "  \"/>\n",
       "<polyline clip-path=\"url(#clip350)\" style=\"stroke:#000000; stroke-width:4; stroke-opacity:1; fill:none\" points=\"\n",
       "  167.654,542.96 1152.76,542.96 \n",
       "  \"/>\n",
       "<polyline clip-path=\"url(#clip350)\" style=\"stroke:#000000; stroke-width:4; stroke-opacity:1; fill:none\" points=\"\n",
       "  288.468,542.96 288.468,537.011 \n",
       "  \"/>\n",
       "<polyline clip-path=\"url(#clip350)\" style=\"stroke:#000000; stroke-width:4; stroke-opacity:1; fill:none\" points=\"\n",
       "  474.336,542.96 474.336,537.011 \n",
       "  \"/>\n",
       "<polyline clip-path=\"url(#clip350)\" style=\"stroke:#000000; stroke-width:4; stroke-opacity:1; fill:none\" points=\"\n",
       "  660.205,542.96 660.205,537.011 \n",
       "  \"/>\n",
       "<polyline clip-path=\"url(#clip350)\" style=\"stroke:#000000; stroke-width:4; stroke-opacity:1; fill:none\" points=\"\n",
       "  846.073,542.96 846.073,537.011 \n",
       "  \"/>\n",
       "<polyline clip-path=\"url(#clip350)\" style=\"stroke:#000000; stroke-width:4; stroke-opacity:1; fill:none\" points=\"\n",
       "  1031.94,542.96 1031.94,537.011 \n",
       "  \"/>\n",
       "<path clip-path=\"url(#clip350)\" d=\"M 0 0 M259.88 577.203 L289.556 577.203 L289.556 581.138 L259.88 581.138 L259.88 577.203 Z\" fill=\"#000000\" fill-rule=\"evenodd\" fill-opacity=\"1\" /><path clip-path=\"url(#clip350)\" d=\"M 0 0 M307.473 563.546 L295.667 581.995 L307.473 581.995 L307.473 563.546 M306.246 559.472 L312.125 559.472 L312.125 581.995 L317.056 581.995 L317.056 585.884 L312.125 585.884 L312.125 594.032 L307.473 594.032 L307.473 585.884 L291.871 585.884 L291.871 581.37 L306.246 559.472 Z\" fill=\"#000000\" fill-rule=\"evenodd\" fill-opacity=\"1\" /><path clip-path=\"url(#clip350)\" d=\"M 0 0 M446.79 577.203 L476.466 577.203 L476.466 581.138 L446.79 581.138 L446.79 577.203 Z\" fill=\"#000000\" fill-rule=\"evenodd\" fill-opacity=\"1\" /><path clip-path=\"url(#clip350)\" d=\"M 0 0 M485.563 590.097 L501.883 590.097 L501.883 594.032 L479.938 594.032 L479.938 590.097 Q482.6 587.342 487.184 582.712 Q491.79 578.06 492.971 576.717 Q495.216 574.194 496.096 572.458 Q496.998 570.699 496.998 569.009 Q496.998 566.254 495.054 564.518 Q493.133 562.782 490.031 562.782 Q487.832 562.782 485.378 563.546 Q482.948 564.31 480.17 565.861 L480.17 561.139 Q482.994 560.004 485.447 559.426 Q487.901 558.847 489.938 558.847 Q495.309 558.847 498.503 561.532 Q501.697 564.217 501.697 568.708 Q501.697 570.838 500.887 572.759 Q500.1 574.657 497.994 577.25 Q497.415 577.921 494.313 581.138 Q491.211 584.333 485.563 590.097 Z\" fill=\"#000000\" fill-rule=\"evenodd\" fill-opacity=\"1\" /><path clip-path=\"url(#clip350)\" d=\"M 0 0 M660.205 562.551 Q656.594 562.551 654.765 566.115 Q652.959 569.657 652.959 576.787 Q652.959 583.893 654.765 587.458 Q656.594 590.999 660.205 590.999 Q663.839 590.999 665.645 587.458 Q667.473 583.893 667.473 576.787 Q667.473 569.657 665.645 566.115 Q663.839 562.551 660.205 562.551 M660.205 558.847 Q666.015 558.847 669.07 563.453 Q672.149 568.037 672.149 576.787 Q672.149 585.513 669.07 590.12 Q666.015 594.703 660.205 594.703 Q654.395 594.703 651.316 590.12 Q648.26 585.513 648.26 576.787 Q648.26 568.037 651.316 563.453 Q654.395 558.847 660.205 558.847 Z\" fill=\"#000000\" fill-rule=\"evenodd\" fill-opacity=\"1\" /><path clip-path=\"url(#clip350)\" d=\"M 0 0 M840.726 590.097 L857.045 590.097 L857.045 594.032 L835.101 594.032 L835.101 590.097 Q837.763 587.342 842.346 582.712 Q846.953 578.06 848.133 576.717 Q850.379 574.194 851.258 572.458 Q852.161 570.699 852.161 569.009 Q852.161 566.254 850.217 564.518 Q848.295 562.782 845.194 562.782 Q842.994 562.782 840.541 563.546 Q838.11 564.31 835.332 565.861 L835.332 561.139 Q838.157 560.004 840.61 559.426 Q843.064 558.847 845.101 558.847 Q850.471 558.847 853.666 561.532 Q856.86 564.217 856.86 568.708 Q856.86 570.838 856.05 572.759 Q855.263 574.657 853.156 577.25 Q852.578 577.921 849.476 581.138 Q846.374 584.333 840.726 590.097 Z\" fill=\"#000000\" fill-rule=\"evenodd\" fill-opacity=\"1\" /><path clip-path=\"url(#clip350)\" d=\"M 0 0 M1034.95 563.546 L1023.15 581.995 L1034.95 581.995 L1034.95 563.546 M1033.72 559.472 L1039.6 559.472 L1039.6 581.995 L1044.53 581.995 L1044.53 585.884 L1039.6 585.884 L1039.6 594.032 L1034.95 594.032 L1034.95 585.884 L1019.35 585.884 L1019.35 581.37 L1033.72 559.472 Z\" fill=\"#000000\" fill-rule=\"evenodd\" fill-opacity=\"1\" /><polyline clip-path=\"url(#clip352)\" style=\"stroke:#000000; stroke-width:2; stroke-opacity:0.1; fill:none\" points=\"\n",
       "  167.654,528.994 1152.76,528.994 \n",
       "  \"/>\n",
       "<polyline clip-path=\"url(#clip352)\" style=\"stroke:#000000; stroke-width:2; stroke-opacity:0.1; fill:none\" points=\"\n",
       "  167.654,412.027 1152.76,412.027 \n",
       "  \"/>\n",
       "<polyline clip-path=\"url(#clip352)\" style=\"stroke:#000000; stroke-width:2; stroke-opacity:0.1; fill:none\" points=\"\n",
       "  167.654,295.059 1152.76,295.059 \n",
       "  \"/>\n",
       "<polyline clip-path=\"url(#clip352)\" style=\"stroke:#000000; stroke-width:2; stroke-opacity:0.1; fill:none\" points=\"\n",
       "  167.654,178.092 1152.76,178.092 \n",
       "  \"/>\n",
       "<polyline clip-path=\"url(#clip352)\" style=\"stroke:#000000; stroke-width:2; stroke-opacity:0.1; fill:none\" points=\"\n",
       "  167.654,61.1239 1152.76,61.1239 \n",
       "  \"/>\n",
       "<polyline clip-path=\"url(#clip350)\" style=\"stroke:#000000; stroke-width:4; stroke-opacity:1; fill:none\" points=\"\n",
       "  167.654,542.96 167.654,47.2441 \n",
       "  \"/>\n",
       "<polyline clip-path=\"url(#clip350)\" style=\"stroke:#000000; stroke-width:4; stroke-opacity:1; fill:none\" points=\"\n",
       "  167.654,528.994 179.475,528.994 \n",
       "  \"/>\n",
       "<polyline clip-path=\"url(#clip350)\" style=\"stroke:#000000; stroke-width:4; stroke-opacity:1; fill:none\" points=\"\n",
       "  167.654,412.027 179.475,412.027 \n",
       "  \"/>\n",
       "<polyline clip-path=\"url(#clip350)\" style=\"stroke:#000000; stroke-width:4; stroke-opacity:1; fill:none\" points=\"\n",
       "  167.654,295.059 179.475,295.059 \n",
       "  \"/>\n",
       "<polyline clip-path=\"url(#clip350)\" style=\"stroke:#000000; stroke-width:4; stroke-opacity:1; fill:none\" points=\"\n",
       "  167.654,178.092 179.475,178.092 \n",
       "  \"/>\n",
       "<polyline clip-path=\"url(#clip350)\" style=\"stroke:#000000; stroke-width:4; stroke-opacity:1; fill:none\" points=\"\n",
       "  167.654,61.1239 179.475,61.1239 \n",
       "  \"/>\n",
       "<path clip-path=\"url(#clip350)\" d=\"M 0 0 M57.2236 529.446 L86.8994 529.446 L86.8994 533.381 L57.2236 533.381 L57.2236 529.446 Z\" fill=\"#000000\" fill-rule=\"evenodd\" fill-opacity=\"1\" /><path clip-path=\"url(#clip350)\" d=\"M 0 0 M92.779 542.339 L100.418 542.339 L100.418 515.973 L92.1077 517.64 L92.1077 513.381 L100.372 511.714 L105.047 511.714 L105.047 542.339 L112.686 542.339 L112.686 546.274 L92.779 546.274 L92.779 542.339 Z\" fill=\"#000000\" fill-rule=\"evenodd\" fill-opacity=\"1\" /><path clip-path=\"url(#clip350)\" d=\"M 0 0 M117.756 540.395 L122.64 540.395 L122.64 546.274 L117.756 546.274 L117.756 540.395 Z\" fill=\"#000000\" fill-rule=\"evenodd\" fill-opacity=\"1\" /><path clip-path=\"url(#clip350)\" d=\"M 0 0 M137.709 514.793 Q134.098 514.793 132.27 518.358 Q130.464 521.899 130.464 529.029 Q130.464 536.135 132.27 539.7 Q134.098 543.242 137.709 543.242 Q141.344 543.242 143.149 539.7 Q144.978 536.135 144.978 529.029 Q144.978 521.899 143.149 518.358 Q141.344 514.793 137.709 514.793 M137.709 511.089 Q143.519 511.089 146.575 515.696 Q149.654 520.279 149.654 529.029 Q149.654 537.756 146.575 542.362 Q143.519 546.946 137.709 546.946 Q131.899 546.946 128.82 542.362 Q125.765 537.756 125.765 529.029 Q125.765 520.279 128.82 515.696 Q131.899 511.089 137.709 511.089 Z\" fill=\"#000000\" fill-rule=\"evenodd\" fill-opacity=\"1\" /><path clip-path=\"url(#clip350)\" d=\"M 0 0 M56.9921 412.478 L86.6679 412.478 L86.6679 416.413 L56.9921 416.413 L56.9921 412.478 Z\" fill=\"#000000\" fill-rule=\"evenodd\" fill-opacity=\"1\" /><path clip-path=\"url(#clip350)\" d=\"M 0 0 M101.737 397.825 Q98.1262 397.825 96.2975 401.39 Q94.4919 404.932 94.4919 412.061 Q94.4919 419.168 96.2975 422.733 Q98.1262 426.274 101.737 426.274 Q105.371 426.274 107.177 422.733 Q109.006 419.168 109.006 412.061 Q109.006 404.932 107.177 401.39 Q105.371 397.825 101.737 397.825 M101.737 394.122 Q107.547 394.122 110.603 398.728 Q113.682 403.311 113.682 412.061 Q113.682 420.788 110.603 425.395 Q107.547 429.978 101.737 429.978 Q95.9271 429.978 92.8484 425.395 Q89.7929 420.788 89.7929 412.061 Q89.7929 403.311 92.8484 398.728 Q95.9271 394.122 101.737 394.122 Z\" fill=\"#000000\" fill-rule=\"evenodd\" fill-opacity=\"1\" /><path clip-path=\"url(#clip350)\" d=\"M 0 0 M118.751 423.427 L123.635 423.427 L123.635 429.307 L118.751 429.307 L118.751 423.427 Z\" fill=\"#000000\" fill-rule=\"evenodd\" fill-opacity=\"1\" /><path clip-path=\"url(#clip350)\" d=\"M 0 0 M128.751 394.747 L147.107 394.747 L147.107 398.682 L133.033 398.682 L133.033 407.154 Q134.052 406.807 135.07 406.645 Q136.089 406.46 137.107 406.46 Q142.894 406.46 146.274 409.631 Q149.654 412.802 149.654 418.219 Q149.654 423.797 146.181 426.899 Q142.709 429.978 136.39 429.978 Q134.214 429.978 131.945 429.608 Q129.7 429.237 127.293 428.496 L127.293 423.797 Q129.376 424.932 131.598 425.487 Q133.82 426.043 136.297 426.043 Q140.302 426.043 142.64 423.936 Q144.978 421.83 144.978 418.219 Q144.978 414.608 142.64 412.501 Q140.302 410.395 136.297 410.395 Q134.422 410.395 132.547 410.811 Q130.695 411.228 128.751 412.108 L128.751 394.747 Z\" fill=\"#000000\" fill-rule=\"evenodd\" fill-opacity=\"1\" /><path clip-path=\"url(#clip350)\" d=\"M 0 0 M100.742 280.858 Q97.1308 280.858 95.3021 284.423 Q93.4966 287.964 93.4966 295.094 Q93.4966 302.2 95.3021 305.765 Q97.1308 309.307 100.742 309.307 Q104.376 309.307 106.182 305.765 Q108.01 302.2 108.01 295.094 Q108.01 287.964 106.182 284.423 Q104.376 280.858 100.742 280.858 M100.742 277.154 Q106.552 277.154 109.608 281.761 Q112.686 286.344 112.686 295.094 Q112.686 303.821 109.608 308.427 Q106.552 313.01 100.742 313.01 Q94.9317 313.01 91.8531 308.427 Q88.7975 303.821 88.7975 295.094 Q88.7975 286.344 91.8531 281.761 Q94.9317 277.154 100.742 277.154 Z\" fill=\"#000000\" fill-rule=\"evenodd\" fill-opacity=\"1\" /><path clip-path=\"url(#clip350)\" d=\"M 0 0 M117.756 306.459 L122.64 306.459 L122.64 312.339 L117.756 312.339 L117.756 306.459 Z\" fill=\"#000000\" fill-rule=\"evenodd\" fill-opacity=\"1\" /><path clip-path=\"url(#clip350)\" d=\"M 0 0 M137.709 280.858 Q134.098 280.858 132.27 284.423 Q130.464 287.964 130.464 295.094 Q130.464 302.2 132.27 305.765 Q134.098 309.307 137.709 309.307 Q141.344 309.307 143.149 305.765 Q144.978 302.2 144.978 295.094 Q144.978 287.964 143.149 284.423 Q141.344 280.858 137.709 280.858 M137.709 277.154 Q143.519 277.154 146.575 281.761 Q149.654 286.344 149.654 295.094 Q149.654 303.821 146.575 308.427 Q143.519 313.01 137.709 313.01 Q131.899 313.01 128.82 308.427 Q125.765 303.821 125.765 295.094 Q125.765 286.344 128.82 281.761 Q131.899 277.154 137.709 277.154 Z\" fill=\"#000000\" fill-rule=\"evenodd\" fill-opacity=\"1\" /><path clip-path=\"url(#clip350)\" d=\"M 0 0 M101.737 163.89 Q98.1262 163.89 96.2975 167.455 Q94.4919 170.997 94.4919 178.126 Q94.4919 185.233 96.2975 188.797 Q98.1262 192.339 101.737 192.339 Q105.371 192.339 107.177 188.797 Q109.006 185.233 109.006 178.126 Q109.006 170.997 107.177 167.455 Q105.371 163.89 101.737 163.89 M101.737 160.187 Q107.547 160.187 110.603 164.793 Q113.682 169.376 113.682 178.126 Q113.682 186.853 110.603 191.459 Q107.547 196.043 101.737 196.043 Q95.9271 196.043 92.8484 191.459 Q89.7929 186.853 89.7929 178.126 Q89.7929 169.376 92.8484 164.793 Q95.9271 160.187 101.737 160.187 Z\" fill=\"#000000\" fill-rule=\"evenodd\" fill-opacity=\"1\" /><path clip-path=\"url(#clip350)\" d=\"M 0 0 M118.751 189.492 L123.635 189.492 L123.635 195.372 L118.751 195.372 L118.751 189.492 Z\" fill=\"#000000\" fill-rule=\"evenodd\" fill-opacity=\"1\" /><path clip-path=\"url(#clip350)\" d=\"M 0 0 M128.751 160.812 L147.107 160.812 L147.107 164.747 L133.033 164.747 L133.033 173.219 Q134.052 172.872 135.07 172.71 Q136.089 172.524 137.107 172.524 Q142.894 172.524 146.274 175.696 Q149.654 178.867 149.654 184.284 Q149.654 189.862 146.181 192.964 Q142.709 196.043 136.39 196.043 Q134.214 196.043 131.945 195.672 Q129.7 195.302 127.293 194.561 L127.293 189.862 Q129.376 190.997 131.598 191.552 Q133.82 192.108 136.297 192.108 Q140.302 192.108 142.64 190.001 Q144.978 187.895 144.978 184.284 Q144.978 180.673 142.64 178.566 Q140.302 176.46 136.297 176.46 Q134.422 176.46 132.547 176.876 Q130.695 177.293 128.751 178.173 L128.751 160.812 Z\" fill=\"#000000\" fill-rule=\"evenodd\" fill-opacity=\"1\" /><path clip-path=\"url(#clip350)\" d=\"M 0 0 M92.779 74.4688 L100.418 74.4688 L100.418 48.1032 L92.1077 49.7698 L92.1077 45.5106 L100.372 43.8439 L105.047 43.8439 L105.047 74.4688 L112.686 74.4688 L112.686 78.4039 L92.779 78.4039 L92.779 74.4688 Z\" fill=\"#000000\" fill-rule=\"evenodd\" fill-opacity=\"1\" /><path clip-path=\"url(#clip350)\" d=\"M 0 0 M117.756 72.5243 L122.64 72.5243 L122.64 78.4039 L117.756 78.4039 L117.756 72.5243 Z\" fill=\"#000000\" fill-rule=\"evenodd\" fill-opacity=\"1\" /><path clip-path=\"url(#clip350)\" d=\"M 0 0 M137.709 46.9226 Q134.098 46.9226 132.27 50.4874 Q130.464 54.0291 130.464 61.1587 Q130.464 68.2651 132.27 71.8299 Q134.098 75.3715 137.709 75.3715 Q141.344 75.3715 143.149 71.8299 Q144.978 68.2651 144.978 61.1587 Q144.978 54.0291 143.149 50.4874 Q141.344 46.9226 137.709 46.9226 M137.709 43.2189 Q143.519 43.2189 146.575 47.8254 Q149.654 52.4087 149.654 61.1587 Q149.654 69.8855 146.575 74.4919 Q143.519 79.0752 137.709 79.0752 Q131.899 79.0752 128.82 74.4919 Q125.765 69.8855 125.765 61.1587 Q125.765 52.4087 128.82 47.8254 Q131.899 43.2189 137.709 43.2189 Z\" fill=\"#000000\" fill-rule=\"evenodd\" fill-opacity=\"1\" /><polyline clip-path=\"url(#clip352)\" style=\"stroke:#009af9; stroke-width:4; stroke-opacity:1; fill:none\" points=\"\n",
       "  195.534,70.733 197.803,69.1799 200.072,67.7614 202.341,66.4784 204.61,65.3317 215.1,61.8185 225.589,61.2738 236.079,63.7044 246.569,69.0795 257.059,77.3307 \n",
       "  267.549,88.3529 278.039,102.006 288.528,118.116 301.136,140.438 313.744,165.602 326.352,193.145 338.96,222.56 360.28,275.037 381.599,328.563 404.759,384.628 \n",
       "  427.918,435.16 438.593,455.71 449.268,474.142 459.944,490.213 470.619,503.712 482.064,515.126 493.509,523.207 504.954,527.831 516.399,528.93 529.66,525.775 \n",
       "  542.92,517.931 556.18,505.557 569.44,488.904 581.224,470.787 593.009,449.848 604.793,426.424 616.577,400.89 637.244,352.27 657.911,300.831 680.444,244.514 \n",
       "  702.977,191.153 714.311,166.428 725.644,143.613 736.977,123.049 748.311,105.039 760.841,88.4215 773.372,75.5552 785.902,66.6735 798.433,61.9374 810.355,61.3594 \n",
       "  822.278,64.6223 834.2,71.6727 846.123,82.3945 858.519,97.2462 870.916,115.612 883.313,137.167 895.709,161.526 916.58,207.654 937.45,258.171 962.931,322.096 \n",
       "  988.412,384.002 1000.39,411.07 1012.36,436.214 1024.34,459.018 1036.32,479.102 1045.91,493.003 1055.5,504.796 1065.1,514.357 1074.69,521.583 1084.28,526.396 \n",
       "  1093.88,528.747 1103.47,528.61 1113.06,525.987 1116.02,524.683 1118.97,523.146 1121.92,521.38 1124.88,519.385 \n",
       "  \"/>\n",
       "</svg>\n"
      ]
     },
     "metadata": {},
     "output_type": "display_data"
    },
    {
     "name": "stdout",
     "output_type": "stream",
     "text": [
      "  8.055553 seconds (15.51 M allocations: 792.346 MiB, 3.23% gc time)\n",
      "\n",
      "using PyPlot -> 19.415546 seconds (9.84 M allocations: 494.717 MiB, 1.21% gc time)\n",
      "\n",
      "using DifferentialEquations ->"
     ]
    }
   ],
   "source": [
    "import Pkg\n",
    "Pkg.add(\"Plots\")\n",
    "Pkg.add(\"PyPlot\")\n",
    "Pkg.add(\"DifferentialEquations\")\n",
    "Pkg.add(\"Combinatorics\")\n",
    "Pkg.add(\"Distributed\")\n",
    "Pkg.add(\"Distributions\")\n",
    "Pkg.add(\"Libdl\")\n",
    "Pkg.add(\"LinearAlgebra\")\n",
    "Pkg.add(\"Optim\")\n",
    "Pkg.add(\"Primes\")\n",
    "Pkg.add(\"ProgressMeter\")\n",
    "Pkg.add(\"RCall\")\n",
    "Pkg.add(\"SpecialFunctions\")\n",
    "Pkg.add(\"Statistics\")\n",
    "Pkg.add(\"SymPy\")\n",
    "\n",
    "print(\"using Plots ->\")\n",
    "@time using Plots\n",
    "gr(legend=false); ENV[\"PLOTS_TEST\"] = \"true\"\n",
    "\n",
    "print(\"\\nplot(sin) ->\")\n",
    "@time plot(sin, size=(300, 160)) |> display # コンパイル\n",
    "\n",
    "print(\"\\nusing PyPlot ->\")\n",
    "@time using PyPlot: PyPlot, plt\n",
    "\n",
    "print(\"\\nusing DifferentialEquations ->\")\n",
    "@time using DifferentialEquations\n",
    "\n",
    "using Base64\n",
    "using Combinatorics\n",
    "using Distributed\n",
    "using Distributions\n",
    "using Libdl\n",
    "using LinearAlgebra\n",
    "using Optim\n",
    "using Primes\n",
    "using ProgressMeter\n",
    "using Random: seed!\n",
    "using RCall\n",
    "using SpecialFunctions\n",
    "using Statistics\n",
    "using SymPy: SymPy, sympy, Sym, @vars, @syms, simplify, oo, PI\n",
    "\n",
    "ldisp(x...) = display(\"text/html\", raw\"$$\" * prod(x) * raw\"$$\")\n",
    "\n",
    "showimg(mime, fn) = open(fn) do f\n",
    "    base64 = base64encode(f)\n",
    "    display(\"text/html\", \"\"\"<img src=\"data:$mime;base64,$base64\">\"\"\")\n",
    "end"
   ]
  },
  {
   "cell_type": "code",
   "execution_count": null,
   "metadata": {
    "slideshow": {
     "slide_type": "-"
    }
   },
   "outputs": [],
   "source": [
    "Pkg.add(\"StatsBase\")\n",
    "using StatsBase\n",
    "\n",
    "function nrationalpoints_naive(f, p)\n",
    "    @distributed (+) for x in 0:p-1\n",
    "        s = 0\n",
    "        for y in 0:p-1\n",
    "            s += ifelse(mod(f(x,y),p) == 0, 1, 0)\n",
    "        end\n",
    "        s\n",
    "    end\n",
    "end\n",
    "\n",
    "function plot_SatoTate_naive(f; figtitle=\"Sato-Tate conjecture\", N=2^12)\n",
    "    P = primes(N)\n",
    "    @show N, length(P)\n",
    "    @time S = nrationalpoints_naive.(f, P) .+ 1 # \"+1\" は無限遠点の個数\n",
    "    plot_SatoTate(P, S; figtitle=figtitle)\n",
    "end\n",
    "\n",
    "function nrationalpoints_legendre(g, p)\n",
    "    @distributed (+) for x in 0:p-1\n",
    "        l = legendresymbol(mod(g(x),p), p)\n",
    "        ifelse(l == 1, 2, ifelse(l == -1, 0, 1))\n",
    "    end\n",
    "end\n",
    "\n",
    "function plot_SatoTate_legendre(f; figtitle=\"Sato-Tate conjecture\", N=2^12)\n",
    "    P = primes(N)\n",
    "    @show N, length(P)\n",
    "    @time S = nrationalpoints_legendre.(f, P) .+ 1 # \"+1\" は無限遠点の個数\n",
    "    plot_SatoTate(P, S; figtitle=figtitle)\n",
    "end\n",
    "\n",
    "function plot_SatoTate(P, S; figtitle=\"Sato-Tate conjecture\")\n",
    "    a = (P .+ 1) - S\n",
    "\n",
    "    @show count(abs.(a) .> 2sqrt.(P)) # Weil予想の確認\n",
    "    X = a ./ (2sqrt.(P)) # -1 から 1 の区間に入るように正規化\n",
    "    θ = acos.(X)\n",
    "\n",
    "    x = range(-1, 1, length=200)\n",
    "    g(x) = (2/π)*sqrt(1-x^2) # 半円則\n",
    "\n",
    "    t = range(0, π, length=200)\n",
    "    h(t) = (2/π)*sin(t)^2 # sin^2 分布\n",
    "\n",
    "    sleep(0.1)\n",
    "    plt.figure(figsize=(8,3))\n",
    "    \n",
    "    plt.subplot(121)\n",
    "    plt.hist(X, normed=true, bins=21, alpha=0.5, label=\"\\$a_p/(2\\\\sqrt{p})\\$\")\n",
    "    plt.plot(x, g.(x), color=\"red\", ls=\"--\", label=\"\\$y=(2/\\\\pi)\\\\sqrt{1-x^2}\\$\")\n",
    "    plt.xlabel(\"\\$x\\$\")\n",
    "    plt.grid(ls=\":\")\n",
    "    plt.legend(fontsize=9)\n",
    "    plt.title(figtitle, fontsize=10)\n",
    "    \n",
    "    plt.subplot(122)\n",
    "    plt.hist(θ, normed=true, bins=21, alpha=0.5, label=\"\\$\\\\arccos(a_p/(2\\\\sqrt{p}))\")\n",
    "    plt.plot(t, h.(t), color=\"red\", ls=\"--\", label=\"\\$y=(2/\\\\pi)\\\\sin^2\\\\theta\\$\")\n",
    "    plt.xlabel(\"\\$\\\\theta\\$\")\n",
    "    plt.grid(ls=\":\")\n",
    "    plt.legend(fontsize=8)\n",
    "    plt.title(figtitle, fontsize=10)\n",
    "    plt.tight_layout()\n",
    "    println(fit(Histogram, 180θ/π,  0.0:10.0:180.0, closed= :right))\n",
    "end\n",
    "\n",
    "function plot_SatoTate_legendre_4(f; figtitle=\"Sato-Tate conjecture\", N=2^12)\n",
    "    P = primes(N)\n",
    "    @show N, length(P)\n",
    "    @time S = nrationalpoints_legendre.(f, P) .+ 1 # \"+1\" は無限遠点の個数\n",
    "    plot_SatoTate_4(P, S; figtitle=figtitle)\n",
    "end\n",
    "\n",
    "function plot_SatoTate_4(P, S; figtitle=\"Sato-Tate conjecture\")\n",
    "    a = (P .+ 1) - S\n",
    "\n",
    "    @show count(abs.(a) .> 4sqrt.(P)) # Weil予想の確認\n",
    "    X = a ./ (4sqrt.(P)) # -1 から 1 の区間に入るように正規化\n",
    "    θ = acos.(X)\n",
    "\n",
    "    x = range(-1, 1, length=200)\n",
    "    g(x) = (6/π)*sqrt(1-x^2) # 半円則\n",
    "\n",
    "    t = range(0, π, length=200)\n",
    "    h(t) = (6/π)*sin(t)^2 # sin^2 分布\n",
    "\n",
    "    sleep(0.1)\n",
    "    plt.figure(figsize=(8,3))\n",
    "    \n",
    "    plt.subplot(121)\n",
    "    plt.hist(X, normed=true, bins=21, alpha=0.5, label=\"\\$a_p/(2\\\\sqrt{p})\\$\")\n",
    "    plt.plot(x, g.(x), color=\"red\", ls=\"--\", label=\"\\$y=(2/\\\\pi)\\\\sqrt{1-x^2}\\$\")\n",
    "    plt.xlabel(\"\\$x\\$\")\n",
    "    plt.grid(ls=\":\")\n",
    "    plt.legend(fontsize=9)\n",
    "    plt.title(figtitle, fontsize=10)\n",
    "    \n",
    "    plt.subplot(122)\n",
    "    plt.hist(θ, normed=true, bins=21, alpha=0.5, label=\"\\$\\\\arccos(a_p/(2\\\\sqrt{p}))\")\n",
    "    plt.plot(t, h.(t), color=\"red\", ls=\"--\", label=\"\\$y=(2/\\\\pi)\\\\sin^2\\\\theta\\$\")\n",
    "    plt.xlabel(\"\\$\\\\theta\\$\")\n",
    "    plt.grid(ls=\":\")\n",
    "    plt.legend(fontsize=8)\n",
    "    plt.title(figtitle, fontsize=10)\n",
    "\n",
    "    plt.tight_layout()\n",
    "end"
   ]
  },
  {
   "cell_type": "markdown",
   "metadata": {
    "slideshow": {
     "slide_type": "subslide"
    }
   },
   "source": [
    "楕円曲線 $y^2 = ax^3 + bx^2 + cx + d$ の場合の佐藤・Tate予想を数値的に確認.\n",
    "\n",
    "Legendre記号を使った計算によって高速化し, より多数の素数における有理点の個数を求める."
   ]
  },
  {
   "cell_type": "code",
   "execution_count": null,
   "metadata": {
    "slideshow": {
     "slide_type": "-"
    }
   },
   "outputs": [],
   "source": [
    "addedprocs = addprocs(40)\n",
    "@everywhere using Combinatorics: legendresymbol\n",
    "@everywhere g(x) = ax^3 + bx^2 + cx + d\n",
    "N = 2^n\n",
    "figtitle = \"Sat-Tate conj. for  \\$y^ax^3 + bx^2 + cx + d\\$,  \\$p < 2^{n}\\$\"\n",
    "plot_SatoTate_legendre(g, figtitle=figtitle, N=N)\n",
    "rmprocs(addedprocs);"
   ]
  }
 ],
 "metadata": {
  "_draft": {
   "nbviewer_url": "https://gist.github.com/91db4780c941f8c49a968ad27d27f46c"
  },
  "celltoolbar": "Tags",
  "gist": {
   "data": {
    "description": "msfd28/Julia/msfd28genkuroki.ipynb",
    "public": true
   },
   "id": "91db4780c941f8c49a968ad27d27f46c"
  },
  "kernelspec": {
   "display_name": "Julia 1.5.0",
   "language": "julia",
   "name": "julia-1.5"
  },
  "language_info": {
   "file_extension": ".jl",
   "mimetype": "application/julia",
   "name": "julia",
   "version": "1.5.0"
  },
  "toc": {
   "base_numbering": 1,
   "nav_menu": {},
   "number_sections": true,
   "sideBar": true,
   "skip_h1_title": true,
   "title_cell": "目次",
   "title_sidebar": "目次",
   "toc_cell": true,
   "toc_position": {
    "height": "calc(100% - 180px)",
    "left": "10px",
    "top": "150px",
    "width": "249.332px"
   },
   "toc_section_display": true,
   "toc_window_display": false
  }
 },
 "nbformat": 4,
 "nbformat_minor": 2
}
